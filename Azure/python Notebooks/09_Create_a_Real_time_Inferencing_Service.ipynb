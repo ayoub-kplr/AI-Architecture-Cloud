{
    "cells": [
        {
            "cell_type": "markdown",
            "metadata": {
                "id": "view-in-github",
                "colab_type": "text"
            },
            "source": [
                "<a href=\"https://colab.research.google.com/github/ayoub-kplr/AI-Architecture-Cloud/blob/main/Azure/python%20Notebooks/09_Create_a_Real_time_Inferencing_Service.ipynb\" target=\"_blank\"><img src=\"https://colab.research.google.com/assets/colab-badge.svg\" alt=\"Open In Colab\"/></a>"
            ]
        },
        {
            "cell_type": "markdown",
            "metadata": {
                "id": "QWeGVGLeu4_n"
            },
            "source": [
                "# Cr\u00e9er un service d'inf\u00e9rence en temps r\u00e9el\n",
                "\n",
                "Apr\u00e8s avoir form\u00e9 un mod\u00e8le pr\u00e9dictif, vous pouvez le d\u00e9ployer en tant que service en temps r\u00e9el que les clients peuvent utiliser pour obtenir des pr\u00e9dictions \u00e0 partir de nouvelles donn\u00e9es.\n"
            ]
        },
        {
            "cell_type": "markdown",
            "metadata": {
                "id": "RLA-VWdDu4_s"
            },
            "source": [
                "## Connectez-vous \u00e0 votre espace de travail\n",
                "\n",
                "Pour commencer, connectez-vous \u00e0 votre espace de travail.\n",
                "\n",
                "> **Remarque**\u00a0: Si vous n'avez pas encore \u00e9tabli de session authentifi\u00e9e avec votre abonnement Azure, vous serez invit\u00e9 \u00e0 vous authentifier en cliquant sur un lien, en saisissant un code d'authentification et en vous connectant \u00e0 Azure.\n"
            ]
        },
        {
            "cell_type": "code",
            "execution_count": null,
            "metadata": {
                "gather": {
                    "logged": 1649367571437
                },
                "vscode": {
                    "languageId": "python"
                },
                "id": "8C2kl4g_u4_t"
            },
            "outputs": [],
            "source": [
                "import azureml.core\n",
                "from azureml.core import Workspace\n",
                "\n",
                "# Load the workspace from the saved config file\n",
                "ws = Workspace.from_config()\n",
                "print('Ready to use Azure ML {} to work with {}'.format(azureml.core.VERSION, ws.name))"
            ]
        },
        {
            "cell_type": "markdown",
            "metadata": {
                "id": "RoZwKYUEu4_u"
            },
            "source": [
                "## Former et enregistrer un mod\u00e8le\n",
                "\n",
                "Maintenant, formons et enregistrons un mod\u00e8le.\n"
            ]
        },
        {
            "cell_type": "code",
            "execution_count": null,
            "metadata": {
                "gather": {
                    "logged": 1649367606601
                },
                "vscode": {
                    "languageId": "python"
                },
                "id": "Ei2eygmiu4_v"
            },
            "outputs": [],
            "source": [
                "from azureml.core import Experiment\n",
                "from azureml.core import Model\n",
                "import pandas as pd\n",
                "import numpy as np\n",
                "import joblib\n",
                "from sklearn.model_selection import train_test_split\n",
                "from sklearn.tree import DecisionTreeClassifier\n",
                "from sklearn.metrics import roc_auc_score\n",
                "from sklearn.metrics import roc_curve\n",
                "\n",
                "# Create an Azure ML experiment in your workspace\n",
                "experiment = Experiment(workspace=ws, name=\"mslearn-train-diabetes\")\n",
                "run = experiment.start_logging()\n",
                "print(\"Starting experiment:\", experiment.name)\n",
                "\n",
                "# load the diabetes dataset\n",
                "print(\"Loading Data...\")\n",
                "diabetes = pd.read_csv('data/diabetes.csv')\n",
                "\n",
                "# Separate features and labels\n",
                "X, y = diabetes[['Pregnancies','PlasmaGlucose','DiastolicBloodPressure','TricepsThickness','SerumInsulin','BMI','DiabetesPedigree','Age']].values, diabetes['Diabetic'].values\n",
                "\n",
                "# Split data into training set and test set\n",
                "X_train, X_test, y_train, y_test = train_test_split(X, y, test_size=0.30, random_state=0)\n",
                "\n",
                "# Train a decision tree model\n",
                "print('Training a decision tree model')\n",
                "model = DecisionTreeClassifier().fit(X_train, y_train)\n",
                "\n",
                "# calculate accuracy\n",
                "y_hat = model.predict(X_test)\n",
                "acc = np.average(y_hat == y_test)\n",
                "print('Accuracy:', acc)\n",
                "run.log('Accuracy', np.float(acc))\n",
                "\n",
                "# calculate AUC\n",
                "y_scores = model.predict_proba(X_test)\n",
                "auc = roc_auc_score(y_test,y_scores[:,1])\n",
                "print('AUC: ' + str(auc))\n",
                "run.log('AUC', np.float(auc))\n",
                "\n",
                "# Save the trained model\n",
                "model_file = 'diabetes_model.pkl'\n",
                "joblib.dump(value=model, filename=model_file)\n",
                "run.upload_file(name = 'outputs/' + model_file, path_or_stream = './' + model_file)\n",
                "\n",
                "# Complete the run\n",
                "run.complete()\n",
                "\n",
                "# Register the model\n",
                "run.register_model(model_path='outputs/diabetes_model.pkl', model_name='diabetes_model',\n",
                "                   tags={'Training context':'Inline Training'},\n",
                "                   properties={'AUC': run.get_metrics()['AUC'], 'Accuracy': run.get_metrics()['Accuracy']})\n",
                "\n",
                "print('Model trained and registered.')"
            ]
        },
        {
            "cell_type": "markdown",
            "metadata": {
                "id": "qZvFyuN5u4_w"
            },
            "source": [
                "## D\u00e9ployer le mod\u00e8le en tant que service Web\n",
                "\n",
                "Vous avez form\u00e9 et enregistr\u00e9 un mod\u00e8le d'apprentissage automatique qui classe les patients en fonction de la probabilit\u00e9 qu'ils souffrent de diab\u00e8te. Ce mod\u00e8le pourrait \u00eatre utilis\u00e9 dans un environnement de production tel qu'un cabinet m\u00e9dical o\u00f9 seuls les patients jug\u00e9s \u00e0 risque doivent \u00eatre soumis \u00e0 un test clinique pour le diab\u00e8te. Pour prendre en charge ce sc\u00e9nario, vous allez d\u00e9ployer le mod\u00e8le en tant que service Web.\n",
                "\n",
                "Tout d'abord, d\u00e9terminons quels mod\u00e8les vous avez enregistr\u00e9s dans l'espace de travail.\n"
            ]
        },
        {
            "cell_type": "code",
            "execution_count": null,
            "metadata": {
                "vscode": {
                    "languageId": "python"
                },
                "id": "hRsyX057u4_w"
            },
            "outputs": [],
            "source": [
                "from azureml.core import Model\n",
                "\n",
                "for model in Model.list(ws):\n",
                "    print(model.name, 'version:', model.version)\n",
                "    for tag_name in model.tags:\n",
                "        tag = model.tags[tag_name]\n",
                "        print ('\\t',tag_name, ':', tag)\n",
                "    for prop_name in model.properties:\n",
                "        prop = model.properties[prop_name]\n",
                "        print ('\\t',prop_name, ':', prop)\n",
                "    print('\\n')"
            ]
        },
        {
            "cell_type": "markdown",
            "metadata": {
                "id": "S4TBYLtvu4_x"
            },
            "source": [
                "Bon, obtenons maintenant le mod\u00e8le que nous voulons d\u00e9ployer. Par d\u00e9faut, si nous sp\u00e9cifions un nom de mod\u00e8le, la derni\u00e8re version sera renvoy\u00e9e.\n"
            ]
        },
        {
            "cell_type": "code",
            "execution_count": null,
            "metadata": {
                "vscode": {
                    "languageId": "python"
                },
                "id": "FSA7nIYMu4_x"
            },
            "outputs": [],
            "source": [
                "model = ws.models['diabetes_model']\n",
                "print(model.name, 'version', model.version)"
            ]
        },
        {
            "cell_type": "markdown",
            "metadata": {
                "id": "hahwZfvFu4_y"
            },
            "source": [
                "Nous allons cr\u00e9er un service Web pour h\u00e9berger ce mod\u00e8le, et cela n\u00e9cessitera du code et des fichiers de configuration\u00a0; alors cr\u00e9ons un dossier pour ceux-ci.\n"
            ]
        },
        {
            "cell_type": "code",
            "execution_count": null,
            "metadata": {
                "vscode": {
                    "languageId": "python"
                },
                "id": "ITIJ5rwqu4_z"
            },
            "outputs": [],
            "source": [
                "import os\n",
                "\n",
                "# Create a folder for the deployment files\n",
                "deployment_folder = './diabetes_service'\n",
                "os.makedirs(deployment_folder, exist_ok=True)\n",
                "print(deployment_folder, 'folder created.')\n",
                "\n",
                "# Set path for scoring script\n",
                "script_file = 'score_diabetes.py'\n",
                "script_path = os.path.join(deployment_folder,script_file)"
            ]
        },
        {
            "cell_type": "markdown",
            "metadata": {
                "id": "o2DyW-p7u4_z"
            },
            "source": [
                "Le service Web sur lequel nous d\u00e9ployons le mod\u00e8le aura besoin de code Python pour charger les donn\u00e9es d'entr\u00e9e, obtenir le mod\u00e8le \u00e0 partir de l'espace de travail, g\u00e9n\u00e9rer et renvoyer des pr\u00e9dictions. Nous enregistrerons ce code dans un *script d'entr\u00e9e* (souvent appel\u00e9 *script de notation*) qui sera d\u00e9ploy\u00e9 sur le service Web.\n",
                "\n",
                "Le script se compose de deux fonctions\u00a0:\n",
                "\n",
                "- **init** : Cette fonction est appel\u00e9e lors de l'initialisation du service, et est g\u00e9n\u00e9ralement utilis\u00e9e pour charger le mod\u00e8le. Notez que le script de notation utilise la variable d'environnement **AZUREML_MODEL_DIR** pour d\u00e9terminer le dossier dans lequel le mod\u00e8le est stock\u00e9.\n",
                "- **run**\u00a0: cette fonction est appel\u00e9e chaque fois qu'une application cliente soumet de nouvelles donn\u00e9es et est g\u00e9n\u00e9ralement utilis\u00e9e pour inf\u00e9rer des pr\u00e9dictions \u00e0 partir du mod\u00e8le.\n"
            ]
        },
        {
            "cell_type": "code",
            "execution_count": null,
            "metadata": {
                "vscode": {
                    "languageId": "python"
                },
                "id": "KXW9F5xDu4_0"
            },
            "outputs": [],
            "source": [
                "%%writefile $script_path\n",
                "import json\n",
                "import joblib\n",
                "import numpy as np\n",
                "import os\n",
                "\n",
                "# Called when the service is loaded\n",
                "def init():\n",
                "    global model\n",
                "    # Get the path to the deployed model file and load it\n",
                "    model_path = os.path.join(os.getenv('AZUREML_MODEL_DIR'), 'diabetes_model.pkl')\n",
                "    model = joblib.load(model_path)\n",
                "\n",
                "# Called when a request is received\n",
                "def run(raw_data):\n",
                "    # Get the input data as a numpy array\n",
                "    data = np.array(json.loads(raw_data)['data'])\n",
                "    # Get a prediction from the model\n",
                "    predictions = model.predict(data)\n",
                "    # Get the corresponding classname for each prediction (0 or 1)\n",
                "    classnames = ['not-diabetic', 'diabetic']\n",
                "    predicted_classes = []\n",
                "    for prediction in predictions:\n",
                "        predicted_classes.append(classnames[prediction])\n",
                "    # Return the predictions as JSON\n",
                "    return json.dumps(predicted_classes)"
            ]
        },
        {
            "cell_type": "markdown",
            "metadata": {
                "id": "Ep_MwAtru4_0"
            },
            "source": [
                "Le service Web sera h\u00e9berg\u00e9 dans un conteneur, et le conteneur devra installer toutes les d\u00e9pendances Python requises lors de son initialisation. Dans ce cas, notre code d'\u00e9valuation n\u00e9cessite **scikit-learn** et certains packages sp\u00e9cifiques \u00e0 Azure Machine Learning qui sont utilis\u00e9s par le service Web d'\u00e9valuation. Nous allons donc cr\u00e9er un environnement qui les inclut. Ensuite, nous ajouterons cet environnement \u00e0 une *configuration d'inf\u00e9rence* avec le script de notation, et d\u00e9finirons une *configuration de d\u00e9ploiement* pour le conteneur dans lequel l'environnement et le script seront h\u00e9berg\u00e9s.\n",
                "\n",
                "Nous pouvons ensuite d\u00e9ployer le mod\u00e8le en tant que service bas\u00e9 sur ces configurations.\n",
                "\n",
                "> **Plus d'informations**\u00a0: pour plus de d\u00e9tails sur le d\u00e9ploiement du mod\u00e8le et les options pour les environnements d'ex\u00e9cution cibles, consultez la [documentation](https://docs.microsoft.com/azure/machine-learning/how-to-deploy- et o\u00f9).\n",
                "\n",
                "Le d\u00e9ploiement prendra un certain temps car il ex\u00e9cute d'abord un processus pour cr\u00e9er une image de conteneur, puis ex\u00e9cute un processus pour cr\u00e9er un service Web bas\u00e9 sur l'image. Une fois le d\u00e9ploiement termin\u00e9 avec succ\u00e8s, l'\u00e9tat **Sain** s'affiche.\n"
            ]
        },
        {
            "cell_type": "code",
            "execution_count": null,
            "metadata": {
                "vscode": {
                    "languageId": "python"
                },
                "id": "P46oT1Nzu4_0"
            },
            "outputs": [],
            "source": [
                "from azureml.core import Environment\n",
                "from azureml.core.model import InferenceConfig\n",
                "from azureml.core.webservice import AciWebservice\n",
                "\n",
                "# Configure the scoring environment\n",
                "service_env = Environment.get(workspace=ws, name=\"AzureML-sklearn-0.24.1-ubuntu18.04-py37-cpu-inference\")\n",
                "service_env.inferencing_stack_version=\"latest\"\n",
                "\n",
                "inference_config = InferenceConfig(source_directory=deployment_folder,\n",
                "                                   entry_script=script_file,\n",
                "                                   environment=service_env)\n",
                "\n",
                "# Configure the web service container\n",
                "deployment_config = AciWebservice.deploy_configuration(cpu_cores=1, memory_gb=1)\n",
                "\n",
                "# Deploy the model as a service\n",
                "print('Deploying model...')\n",
                "service_name = \"diabetes-service\"\n",
                "service = Model.deploy(ws, service_name, [model], inference_config, deployment_config, overwrite=True)\n",
                "service.wait_for_deployment(True)\n",
                "print(service.state)"
            ]
        },
        {
            "cell_type": "markdown",
            "metadata": {
                "id": "5Q1zJwPOu4_0"
            },
            "source": [
                "J'esp\u00e8re que le d\u00e9ploiement a r\u00e9ussi et que vous pouvez voir un \u00e9tat **Sain**. Si ce n'est pas le cas, vous pouvez utiliser le code suivant pour obtenir les journaux de service afin de vous aider \u00e0 r\u00e9soudre les probl\u00e8mes.\n"
            ]
        },
        {
            "cell_type": "code",
            "execution_count": null,
            "metadata": {
                "scrolled": true,
                "vscode": {
                    "languageId": "python"
                },
                "id": "zFKjk2_Du4_1"
            },
            "outputs": [],
            "source": [
                "print(service.get_logs())\n",
                "\n",
                "# If you need to make a change and redeploy, you may need to delete unhealthy service using the following code:\n",
                "#service.delete()"
            ]
        },
        {
            "cell_type": "markdown",
            "metadata": {
                "id": "9YVzLLLBu4_1"
            },
            "source": [
                "Examinez votre espace de travail dans [Azure Machine Learning Studio](https://ml.azure.com) et affichez la page **Endpoints**, qui affiche les services d\u00e9ploy\u00e9s dans votre espace de travail.\n",
                "\n",
                "Vous pouvez \u00e9galement r\u00e9cup\u00e9rer les noms des services Web de votre espace de travail en ex\u00e9cutant le code suivant\u00a0:\n"
            ]
        },
        {
            "cell_type": "code",
            "execution_count": null,
            "metadata": {
                "vscode": {
                    "languageId": "python"
                },
                "id": "ZfMXUr14u4_1"
            },
            "outputs": [],
            "source": [
                "for webservice_name in ws.webservices:\n",
                "    print(webservice_name)"
            ]
        },
        {
            "cell_type": "markdown",
            "metadata": {
                "id": "tThN_svOu4_1"
            },
            "source": [
                "## Utiliser le service Web\n",
                "\n",
                "Une fois le service d\u00e9ploy\u00e9, vous pouvez d\u00e9sormais le consommer \u00e0 partir d'une application cliente.\n"
            ]
        },
        {
            "cell_type": "code",
            "execution_count": null,
            "metadata": {
                "vscode": {
                    "languageId": "python"
                },
                "id": "_9BeVvDWu4_1"
            },
            "outputs": [],
            "source": [
                "import json\n",
                "\n",
                "x_new = [[2,180,74,24,21,23.9091702,1.488172308,22]]\n",
                "print ('Patient: {}'.format(x_new[0]))\n",
                "\n",
                "# Convert the array to a serializable list in a JSON document\n",
                "input_json = json.dumps({\"data\": x_new})\n",
                "\n",
                "# Call the web service, passing the input data (the web service will also accept the data in binary format)\n",
                "predictions = service.run(input_data = input_json)\n",
                "\n",
                "# Get the predicted class - it'll be the first (and only) one.\n",
                "predicted_classes = json.loads(predictions)\n",
                "print(predicted_classes[0])"
            ]
        },
        {
            "cell_type": "markdown",
            "metadata": {
                "id": "Yqj52ZlSu4_2"
            },
            "source": [
                "Vous pouvez \u00e9galement envoyer plusieurs observations de patients au service et obtenir une pr\u00e9diction pour chacune d'entre elles.\n"
            ]
        },
        {
            "cell_type": "code",
            "execution_count": null,
            "metadata": {
                "vscode": {
                    "languageId": "python"
                },
                "id": "_HqCHHnXu4_2"
            },
            "outputs": [],
            "source": [
                "import json\n",
                "\n",
                "# This time our input is an array of two feature arrays\n",
                "x_new = [[2,180,74,24,21,23.9091702,1.488172308,22],\n",
                "         [0,148,58,11,179,39.19207553,0.160829008,45]]\n",
                "\n",
                "# Convert the array or arrays to a serializable list in a JSON document\n",
                "input_json = json.dumps({\"data\": x_new})\n",
                "\n",
                "# Call the web service, passing the input data\n",
                "predictions = service.run(input_data = input_json)\n",
                "\n",
                "# Get the predicted classes.\n",
                "predicted_classes = json.loads(predictions)\n",
                "   \n",
                "for i in range(len(x_new)):\n",
                "    print (\"Patient {}\".format(x_new[i]), predicted_classes[i] )"
            ]
        },
        {
            "cell_type": "markdown",
            "metadata": {
                "id": "SO5YV_ETu4_2"
            },
            "source": [
                "Le code ci-dessus utilise le SDK Azure Machine Learning pour se connecter au service Web conteneuris\u00e9 et l'utiliser pour g\u00e9n\u00e9rer des pr\u00e9dictions \u00e0 partir de votre mod\u00e8le de classification du diab\u00e8te. En production, un mod\u00e8le est susceptible d'\u00eatre consomm\u00e9 par des applications m\u00e9tier qui n'utilisent pas le SDK Azure Machine Learning, mais envoient simplement des requ\u00eates HTTP au service web.\n",
                "\n",
                "D\u00e9terminons l'URL \u00e0 laquelle ces applications doivent soumettre leurs requ\u00eates\u00a0:\n"
            ]
        },
        {
            "cell_type": "code",
            "execution_count": null,
            "metadata": {
                "vscode": {
                    "languageId": "python"
                },
                "id": "l2GLu5VGu4_2"
            },
            "outputs": [],
            "source": [
                "endpoint = service.scoring_uri\n",
                "print(endpoint)"
            ]
        },
        {
            "cell_type": "markdown",
            "metadata": {
                "id": "nx7r54eju4_2"
            },
            "source": [
                "Maintenant que vous connaissez l'URI du point de terminaison, une application peut simplement faire une requ\u00eate HTTP, envoyer les donn\u00e9es du patient au format JSON et recevoir en retour la ou les classes pr\u00e9dites.\n"
            ]
        },
        {
            "cell_type": "code",
            "execution_count": null,
            "metadata": {
                "scrolled": true,
                "vscode": {
                    "languageId": "python"
                },
                "id": "jtWtbkqEu4_2"
            },
            "outputs": [],
            "source": [
                "import requests\n",
                "import json\n",
                "\n",
                "x_new = [[2,180,74,24,21,23.9091702,1.488172308,22],\n",
                "         [0,148,58,11,179,39.19207553,0.160829008,45]]\n",
                "\n",
                "# Convert the array to a serializable list in a JSON document\n",
                "input_json = json.dumps({\"data\": x_new})\n",
                "\n",
                "# Set the content type\n",
                "headers = { 'Content-Type':'application/json' }\n",
                "\n",
                "predictions = requests.post(endpoint, input_json, headers = headers)\n",
                "predicted_classes = json.loads(predictions.json())\n",
                "\n",
                "for i in range(len(x_new)):\n",
                "    print (\"Patient {}\".format(x_new[i]), predicted_classes[i] )"
            ]
        },
        {
            "cell_type": "markdown",
            "metadata": {
                "id": "p3f0gQYVu4_2"
            },
            "source": [
                "Vous avez d\u00e9ploy\u00e9 votre service Web en tant que service Azure Container Instance (ACI) qui ne n\u00e9cessite aucune authentification. Cela convient pour le d\u00e9veloppement et les tests, mais pour la production, vous devez envisager de d\u00e9ployer sur un cluster Azure Kubernetes Service (AKS) et d'activer l'authentification bas\u00e9e sur les jetons. Cela n\u00e9cessiterait que les requ\u00eates REST incluent un en-t\u00eate **Autorisation**.\n",
                "\n",
                "## Supprimer le service\n",
                "\n",
                "Lorsque vous n'avez plus besoin de votre service, vous devez le supprimer pour \u00e9viter d'encourir des frais inutiles.\n"
            ]
        },
        {
            "cell_type": "code",
            "execution_count": null,
            "metadata": {
                "vscode": {
                    "languageId": "python"
                },
                "id": "34ZmQH8Lu4_2"
            },
            "outputs": [],
            "source": [
                "service.delete()\n",
                "print ('Service deleted.')"
            ]
        },
        {
            "cell_type": "markdown",
            "metadata": {
                "id": "tKR2KfPhu4_3"
            },
            "source": [
                "Pour plus d'informations sur la publication d'un mod\u00e8le en tant que service, consultez la [documentation](https://docs.microsoft.com/azure/machine-learning/how-to-deploy-and-where)\n"
            ]
        }
    ],
    "metadata": {
        "kernel_info": {
            "name": "python38-azureml"
        },
        "kernelspec": {
            "display_name": "Python 3.8 - AzureML",
            "language": "python",
            "name": "python38-azureml"
        },
        "nteract": {
            "version": "nteract-front-end@1.0.0"
        },
        "vscode": {
            "interpreter": {
                "hash": "f2b2cd046deda8eabef1e765a11d0ec9aa9bd1d31d56ce79c815a38c323e14ec"
            }
        }
    },
    "nbformat": 4,
    "nbformat_minor": 0
}